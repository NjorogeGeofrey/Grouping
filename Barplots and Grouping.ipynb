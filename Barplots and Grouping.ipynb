{
 "cells": [
  {
   "cell_type": "markdown",
   "metadata": {
    "id": "TX_-QfCapg5r"
   },
   "source": [
    "## CMTH642 - Data Analytics: Advanced Methods  \n",
    "### Assignment 1\n"
   ]
  },
  {
   "cell_type": "markdown",
   "metadata": {
    "id": "U8IqCJzxpg5t"
   },
   "source": [
    "*****\n",
    "Assignment 1 is worth 15% of the final grade. Submit the ipynb file and the generated pdf output file. Failing to submit both files will be subject to a mark deduction.\n",
    "*****\n",
    "\n"
   ]
  },
  {
   "cell_type": "markdown",
   "metadata": {
    "id": "OE4FoDBm-ULU"
   },
   "source": [
    "### Preparation\n",
    "\n",
    "The dataset is related to Forest Fires. For more info: https://archive.ics.uci.edu/ml/datasets/forest+fires"
   ]
  },
  {
   "cell_type": "code",
   "execution_count": 2,
   "metadata": {
    "id": "I6UpceuN_dle"
   },
   "outputs": [],
   "source": [
    "import pandas as pd\n",
    "import matplotlib.pyplot as plt\n",
    "import numpy as np"
   ]
  },
  {
   "cell_type": "markdown",
   "metadata": {
    "id": "XaX5w73fK8HZ"
   },
   "source": [
    "# Q1.\n",
    "\n",
    "Read the csv file from the this URL https://archive.ics.uci.edu/ml/machine-learning-databases/forest-fires/forestfires.csv. Save it to a data frame called Forest. Check the first five records. (10 points)\n",
    "[Relevant Pandas API](https://pandas.pydata.org/docs/reference/api/pandas.read_csv.html)\n"
   ]
  },
  {
   "cell_type": "code",
   "execution_count": 6,
   "metadata": {
    "id": "LeBUg3jMLAsG"
   },
   "outputs": [
    {
     "data": {
      "text/html": [
       "<div>\n",
       "<style scoped>\n",
       "    .dataframe tbody tr th:only-of-type {\n",
       "        vertical-align: middle;\n",
       "    }\n",
       "\n",
       "    .dataframe tbody tr th {\n",
       "        vertical-align: top;\n",
       "    }\n",
       "\n",
       "    .dataframe thead th {\n",
       "        text-align: right;\n",
       "    }\n",
       "</style>\n",
       "<table border=\"1\" class=\"dataframe\">\n",
       "  <thead>\n",
       "    <tr style=\"text-align: right;\">\n",
       "      <th></th>\n",
       "      <th>X</th>\n",
       "      <th>Y</th>\n",
       "      <th>month</th>\n",
       "      <th>day</th>\n",
       "      <th>FFMC</th>\n",
       "      <th>DMC</th>\n",
       "      <th>DC</th>\n",
       "      <th>ISI</th>\n",
       "      <th>temp</th>\n",
       "      <th>RH</th>\n",
       "      <th>wind</th>\n",
       "      <th>rain</th>\n",
       "      <th>area</th>\n",
       "    </tr>\n",
       "  </thead>\n",
       "  <tbody>\n",
       "    <tr>\n",
       "      <th>0</th>\n",
       "      <td>7</td>\n",
       "      <td>5</td>\n",
       "      <td>mar</td>\n",
       "      <td>fri</td>\n",
       "      <td>86.2</td>\n",
       "      <td>26.2</td>\n",
       "      <td>94.3</td>\n",
       "      <td>5.1</td>\n",
       "      <td>8.2</td>\n",
       "      <td>51</td>\n",
       "      <td>6.7</td>\n",
       "      <td>0.0</td>\n",
       "      <td>0.0</td>\n",
       "    </tr>\n",
       "    <tr>\n",
       "      <th>1</th>\n",
       "      <td>7</td>\n",
       "      <td>4</td>\n",
       "      <td>oct</td>\n",
       "      <td>tue</td>\n",
       "      <td>90.6</td>\n",
       "      <td>35.4</td>\n",
       "      <td>669.1</td>\n",
       "      <td>6.7</td>\n",
       "      <td>18.0</td>\n",
       "      <td>33</td>\n",
       "      <td>0.9</td>\n",
       "      <td>0.0</td>\n",
       "      <td>0.0</td>\n",
       "    </tr>\n",
       "    <tr>\n",
       "      <th>2</th>\n",
       "      <td>7</td>\n",
       "      <td>4</td>\n",
       "      <td>oct</td>\n",
       "      <td>sat</td>\n",
       "      <td>90.6</td>\n",
       "      <td>43.7</td>\n",
       "      <td>686.9</td>\n",
       "      <td>6.7</td>\n",
       "      <td>14.6</td>\n",
       "      <td>33</td>\n",
       "      <td>1.3</td>\n",
       "      <td>0.0</td>\n",
       "      <td>0.0</td>\n",
       "    </tr>\n",
       "    <tr>\n",
       "      <th>3</th>\n",
       "      <td>8</td>\n",
       "      <td>6</td>\n",
       "      <td>mar</td>\n",
       "      <td>fri</td>\n",
       "      <td>91.7</td>\n",
       "      <td>33.3</td>\n",
       "      <td>77.5</td>\n",
       "      <td>9.0</td>\n",
       "      <td>8.3</td>\n",
       "      <td>97</td>\n",
       "      <td>4.0</td>\n",
       "      <td>0.2</td>\n",
       "      <td>0.0</td>\n",
       "    </tr>\n",
       "    <tr>\n",
       "      <th>4</th>\n",
       "      <td>8</td>\n",
       "      <td>6</td>\n",
       "      <td>mar</td>\n",
       "      <td>sun</td>\n",
       "      <td>89.3</td>\n",
       "      <td>51.3</td>\n",
       "      <td>102.2</td>\n",
       "      <td>9.6</td>\n",
       "      <td>11.4</td>\n",
       "      <td>99</td>\n",
       "      <td>1.8</td>\n",
       "      <td>0.0</td>\n",
       "      <td>0.0</td>\n",
       "    </tr>\n",
       "  </tbody>\n",
       "</table>\n",
       "</div>"
      ],
      "text/plain": [
       "   X  Y month  day  FFMC   DMC     DC  ISI  temp  RH  wind  rain  area\n",
       "0  7  5   mar  fri  86.2  26.2   94.3  5.1   8.2  51   6.7   0.0   0.0\n",
       "1  7  4   oct  tue  90.6  35.4  669.1  6.7  18.0  33   0.9   0.0   0.0\n",
       "2  7  4   oct  sat  90.6  43.7  686.9  6.7  14.6  33   1.3   0.0   0.0\n",
       "3  8  6   mar  fri  91.7  33.3   77.5  9.0   8.3  97   4.0   0.2   0.0\n",
       "4  8  6   mar  sun  89.3  51.3  102.2  9.6  11.4  99   1.8   0.0   0.0"
      ]
     },
     "execution_count": 6,
     "metadata": {},
     "output_type": "execute_result"
    }
   ],
   "source": [
    "# INSERT YOUR ANSWER HERE\n",
    "Forest = pd.read_csv('https://archive.ics.uci.edu/ml/machine-learning-databases/forest-fires/forestfires.csv')\n",
    "Forest.head()"
   ]
  },
  {
   "cell_type": "markdown",
   "metadata": {
    "id": "WHeMpY0-LS7i"
   },
   "source": [
    "# Q2.\n",
    "How many observations are there in the dataset? How many observations are there with both a significant fire (burned area > 0) and rain? (10 points) [Relevent API1](https://pandas.pydata.org/pandas-docs/version/0.23/generated/pandas.DataFrame.shape.html) , [Relevant Pandas API 2](https://pandas.pydata.org/docs/getting_started/intro_tutorials/03_subset_data.html#)"
   ]
  },
  {
   "cell_type": "code",
   "execution_count": 20,
   "metadata": {
    "id": "hTabQVd2BRdm"
   },
   "outputs": [
    {
     "name": "stdout",
     "output_type": "stream",
     "text": [
      "Total Observations:  517\n",
      "Number of observations with significant fire (burned area > 0) and rain:  2\n"
     ]
    }
   ],
   "source": [
    "# INSERT YOUR ANSWER HERE\n",
    "Total_Observations = Forest.shape[0]\n",
    "print(\"Total Observations: \",Total_Observations)\n",
    "\n",
    "Significant_fire_rain = Forest[(Forest['area'] > 0) & (Forest['rain'] > 0)].shape[0]\n",
    "print(\"Number of observations with significant fire (burned area > 0) and rain: \",Significant_fire_rain)"
   ]
  },
  {
   "cell_type": "markdown",
   "metadata": {
    "id": "IDRxMGfWLg_O"
   },
   "source": [
    "# Q3.\n",
    "Show the columns month, day, area of all the observations with a significant fire (burned area >0 ). (10 points) [Relevant Pandas API](https://pandas.pydata.org/docs/reference/api/pandas.DataFrame.loc.html)"
   ]
  },
  {
   "cell_type": "code",
   "execution_count": 21,
   "metadata": {
    "id": "afEiTeRTLqOc"
   },
   "outputs": [
    {
     "name": "stdout",
     "output_type": "stream",
     "text": [
      "    month  day   area\n",
      "138   jul  tue   0.36\n",
      "139   sep  tue   0.43\n",
      "140   sep  mon   0.47\n",
      "141   aug  wed   0.55\n",
      "142   aug  fri   0.61\n",
      "..    ...  ...    ...\n",
      "509   aug  fri   2.17\n",
      "510   aug  fri   0.43\n",
      "512   aug  sun   6.44\n",
      "513   aug  sun  54.29\n",
      "514   aug  sun  11.16\n",
      "\n",
      "[270 rows x 3 columns]\n"
     ]
    }
   ],
   "source": [
    "# INSERT YOUR ANSWER HERE\n",
    "# Creating DataFrame with only significant fire (burned area >0 )\n",
    "Burnt = Forest[Forest['area'] > 0]\n",
    "print(Burnt[['month', 'day', 'area']])"
   ]
  },
  {
   "cell_type": "markdown",
   "metadata": {
    "id": "XrNuWHNOMq5p"
   },
   "source": [
    "# Q4.\n",
    "How large are the five largest fires (i.e. having largest area)? (10 points) [Relevant API](https://pandas.pydata.org/docs/reference/api/pandas.DataFrame.sort_values.html)"
   ]
  },
  {
   "cell_type": "code",
   "execution_count": 24,
   "metadata": {
    "id": "k8iFRuVMM1AI"
   },
   "outputs": [
    {
     "name": "stdout",
     "output_type": "stream",
     "text": [
      "238    1090.84\n",
      "415     746.28\n",
      "479     278.53\n",
      "237     212.88\n",
      "236     200.94\n",
      "Name: area, dtype: float64\n"
     ]
    }
   ],
   "source": [
    "# INSERT YOUR ANSWER HERE\n",
    "# Finding the five largest fires by area\n",
    "Large = Forest.nlargest(5, 'area')\n",
    "print(Large['area'])\n"
   ]
  },
  {
   "cell_type": "markdown",
   "metadata": {
    "id": "3brpNkeAM9r_"
   },
   "source": [
    "# Q5.\n",
    "For the records you obtained from the previous question, what are the corresponding month, temp, RH, wind, rain, area? (10 points)"
   ]
  },
  {
   "cell_type": "code",
   "execution_count": 25,
   "metadata": {
    "id": "P0HxQEC5NHG9"
   },
   "outputs": [
    {
     "name": "stdout",
     "output_type": "stream",
     "text": [
      "    month  temp  RH  wind  rain     area\n",
      "238   sep  25.1  27   4.0   0.0  1090.84\n",
      "415   aug  27.5  27   4.9   0.0   746.28\n",
      "479   jul  22.6  57   4.9   0.0   278.53\n",
      "237   sep  18.8  40   2.2   0.0   212.88\n",
      "236   sep  18.2  46   1.8   0.0   200.94\n"
     ]
    }
   ],
   "source": [
    "# INSERT YOUR ANSWER HERE\n",
    "print(Large[['month', 'temp', 'RH', 'wind', 'rain', 'area']])"
   ]
  },
  {
   "cell_type": "markdown",
   "metadata": {
    "id": "o4UaGldlNy5w"
   },
   "source": [
    "# Q6.\n",
    "For the whole dataset, reorder factor levels of month to be from Jan to Dec. (10 points)"
   ]
  },
  {
   "cell_type": "code",
   "execution_count": 30,
   "metadata": {
    "id": "rZvskgbfN0x2"
   },
   "outputs": [],
   "source": [
    "# INSERT YOUR ANSWER HERE\n",
    "# correct order for the months\n",
    "month_order = ['jan', 'feb', 'mar', 'apr', 'may', 'jun', 'jul', 'aug', 'sep', 'oct', 'nov', 'dec']\n",
    "\n",
    "# Convert the month column to a categorical type with the specified order\n",
    "Forest['month'] = pd.Categorical(Forest['month'], categories=month_order, ordered=True)"
   ]
  },
  {
   "cell_type": "markdown",
   "metadata": {
    "id": "bqIvFCPgNF-_"
   },
   "source": [
    "# Q7.\n",
    "Add one column to the data indicating whether a fire occurred for each observation ('TRUE' for area>0 and 'FALSE' for area==0). (10 points)"
   ]
  },
  {
   "cell_type": "code",
   "execution_count": 33,
   "metadata": {
    "id": "vfjm8H5COteH"
   },
   "outputs": [],
   "source": [
    "# INSERT YOUR ANSWER HERE\n",
    "Forest['fire_occurred'] = Forest['area'] > 0\n"
   ]
  },
  {
   "cell_type": "markdown",
   "metadata": {
    "id": "LneIVMYfPTYH"
   },
   "source": [
    "# Q8.\n",
    "What is the mean area/wind/temp/RH per month? (10 points)"
   ]
  },
  {
   "cell_type": "code",
   "execution_count": 39,
   "metadata": {
    "id": "tZHYITgvPXtS"
   },
   "outputs": [
    {
     "name": "stdout",
     "output_type": "stream",
     "text": [
      "            area      wind       temp         RH\n",
      "month                                           \n",
      "jan     0.000000  2.000000   5.250000  89.000000\n",
      "feb     6.275000  3.755000   9.635000  55.700000\n",
      "mar     4.356667  4.968519  13.083333  40.000000\n",
      "apr     8.891111  4.666667  12.044444  46.888889\n",
      "may    19.240000  4.450000  14.650000  67.000000\n",
      "jun     5.841176  4.135294  20.494118  45.117647\n",
      "jul    14.369687  3.734375  22.109375  45.125000\n",
      "aug    12.489076  4.086413  21.631522  45.489130\n",
      "sep    17.942616  3.557558  19.612209  42.843023\n",
      "oct     6.638000  3.460000  17.093333  37.466667\n",
      "nov     0.000000  4.500000  11.800000  31.000000\n",
      "dec    13.330000  7.644444   4.522222  38.444444\n"
     ]
    }
   ],
   "source": [
    "# INSERT YOUR ANSWER HERE\n",
    "Mean = Forest[['area', 'wind', 'temp', 'RH']].groupby(Forest['month']).mean()\n",
    "print(Mean)"
   ]
  },
  {
   "cell_type": "markdown",
   "metadata": {
    "id": "dBSX3xe0QcOl"
   },
   "source": [
    "# Q9.\n",
    "How many observations are there in each month? Visualize by using a barplot in descending order. (10 points) [Relevant API 1](https://pandas.pydata.org/docs/reference/api/pandas.Series.value_counts.html) [Relevant API  2](https://matplotlib.org/stable/api/_as_gen/matplotlib.pyplot.hist.html)"
   ]
  },
  {
   "cell_type": "code",
   "execution_count": 43,
   "metadata": {
    "id": "ptG7kM2MQaLX"
   },
   "outputs": [
    {
     "data": {
      "image/png": "[encoded data removed]",
      "text/plain": [
       "<Figure size 720x432 with 1 Axes>"
      ]
     },
     "metadata": {
      "needs_background": "light"
     },
     "output_type": "display_data"
    }
   ],
   "source": [
    "# INSERT YOUR ANSWER HERE\n",
    "import matplotlib.pyplot as plt\n",
    "\n",
    "\n",
    "# Count the number of observations in each month\n",
    "month_counts = Forest['month'].value_counts().sort_values(ascending = False)\n",
    "\n",
    "# Plotting the bar plot\n",
    "plt.figure(figsize = (10, 6))\n",
    "month_counts.plot(kind='bar')\n",
    "plt.title('Number of Observations in Each Month')\n",
    "plt.xlabel('Month')\n",
    "plt.ylabel('Number of Observations')\n",
    "plt.xticks(rotation=45)\n",
    "plt.show()"
   ]
  },
  {
   "cell_type": "markdown",
   "metadata": {
    "id": "aAJoou94QgGT"
   },
   "source": [
    "# Q10.\n",
    "How many observations are there with burned area greater than zero in each month? Visualize by using a barplot in descending order. (10 points)"
   ]
  },
  {
   "cell_type": "code",
   "execution_count": 57,
   "metadata": {
    "id": "Flfqh9IuQk9g"
   },
   "outputs": [
    {
     "data": {
      "image/png": "[encoded data removed]",
      "text/plain": [
       "<Figure size 720x504 with 1 Axes>"
      ]
     },
     "metadata": {
      "needs_background": "light"
     },
     "output_type": "display_data"
    }
   ],
   "source": [
    "# INSERT YOU ANSWER HERE\n",
    "import matplotlib.pyplot as plt\n",
    "\n",
    "Burnt_Area = Forest[Forest['area'] > 0]\n",
    "Area = Burnt_Area['month'].value_counts().sort_values(ascending = False)\n",
    "\n",
    "plt.figure(figsize = (10, 7))\n",
    "Area.plot(kind = 'bar')\n",
    "plt.title('Number of Observations in Each Month With burnt Area > 0')\n",
    "plt.xlabel('month')\n",
    "plt.ylabel('Number of Observations')\n",
    "plt.xticks(rotation = 45)\n",
    "plt.show()"
   ]
  }
 ],
 "metadata": {
  "colab": {
   "provenance": []
  },
  "kernelspec": {
   "display_name": "Python 3 (ipykernel)",
   "language": "python",
   "name": "python3"
  },
  "language_info": {
   "codemirror_mode": {
    "name": "ipython",
    "version": 3
   },
   "file_extension": ".py",
   "mimetype": "text/x-python",
   "name": "python",
   "nbconvert_exporter": "python",
   "pygments_lexer": "ipython3",
   "version": "3.9.12"
  },
  "nteract": {
   "version": "0.25.0"
  },
  "varInspector": {
   "cols": {
    "lenName": 16,
    "lenType": 16,
    "lenVar": 40
   },
   "kernels_config": {
    "python": {
     "delete_cmd_postfix": "",
     "delete_cmd_prefix": "del ",
     "library": "var_list.py",
     "varRefreshCmd": "print(var_dic_list())"
    },
    "r": {
     "delete_cmd_postfix": ") ",
     "delete_cmd_prefix": "rm(",
     "library": "var_list.r",
     "varRefreshCmd": "cat(var_dic_list()) "
    }
   },
   "types_to_exclude": [
    "module",
    "function",
    "builtin_function_or_method",
    "instance",
    "_Feature"
   ],
   "window_display": false
  }
 },
 "nbformat": 4,
 "nbformat_minor": 1
}
